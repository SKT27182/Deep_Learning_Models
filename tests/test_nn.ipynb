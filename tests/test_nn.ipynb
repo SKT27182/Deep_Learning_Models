{
 "cells": [
  {
   "attachments": {},
   "cell_type": "markdown",
   "metadata": {},
   "source": [
    "## imports"
   ]
  },
  {
   "cell_type": "code",
   "execution_count": 1,
   "metadata": {},
   "outputs": [],
   "source": [
    "import numpy as np\n",
    "import pandas as pd\n",
    "import matplotlib.pyplot as plt\n",
    "\n",
    "from  dl.nn.nn import NeuralNetwork as network\n",
    "from  dl.nn import layers as layers\n",
    "from  dl.nn import losses as losses\n",
    "from dl.nn import activations as activations\n",
    "from utils.metrics import Metrics as metrics\n",
    "from utils import optimizers as optimizers"
   ]
  },
  {
   "attachments": {},
   "cell_type": "markdown",
   "metadata": {},
   "source": [
    "## XNOR Gate (Binary Neural Network)"
   ]
  },
  {
   "cell_type": "code",
   "execution_count": 5,
   "metadata": {},
   "outputs": [],
   "source": [
    "# training data\n",
    "x_train = np.array([[0,0], [0,1], [1,0], [1,1]])\n",
    "y_train = np.array([[0], [1], [1], [0]])\n",
    "\n",
    "\n",
    "# network\n",
    "net = network()\n",
    "\n",
    "net.add(layers.DenseLayer(input_shape=(2,), units=8, use_bias=False))\n",
    "net.add(layers.ActivationLayer(activations.Tanh))\n",
    "net.add(layers.DenseLayer(units= 4, activation=\"tanh\"))\n",
    "net.add(layers.DropoutLayer(0.1))\n",
    "net.add(layers.BatchNormalization(4))\n",
    "net.add(layers.DenseLayer(units=1, activation=\"sigmoid\"))                    # input_shape=(1, 10)       ;   output_shape=(1, 10)\n",
    "# net.add(ActivationLayer(Sigmoid))\n",
    "\n",
    "# net.use_loss(MSE_loss)\n",
    "net.compile(loss=losses.BinaryCrossentropy(), optimizer=optimizers.GradientDescent(lr=0.9), initializer=\"glorot_uniform\")\n"
   ]
  },
  {
   "cell_type": "code",
   "execution_count": 6,
   "metadata": {},
   "outputs": [
    {
     "name": "stdout",
     "output_type": "stream",
     "text": [
      "Summary of the Neural Network\n",
      "___________________________________________________________________________________________________________________\n",
      "Layer (type)        Neurons #      Input Shape    Output Shape   Weights shape  Bias shape        Param #\n",
      "===================================================================================================================\n",
      "Input               2              -              (2, None)      -              -                       0\n",
      "\n",
      "DenseLayer          8              (2,)           (8,)           (8, 2)         0                      16\n",
      "\n",
      "ActivationLayer     -              activavtion    Tanh           -              -                       0\n",
      "\n",
      "DenseLayer          4              (8,)           (4,)           (4, 8)         (4, 1)                 36\n",
      "\n",
      "DropoutLayer        -              droupout rate: 0.1            -              -                       0\n",
      "\n",
      "BatchNormalization  -              epsilon:       1e-08          -              -                       -\n",
      "\n",
      "DenseLayer          1              (4,)           (1,)           (1, 4)         (1, 1)                  5\n",
      "\n",
      "===================================================================================================================\n",
      "Total params                                                                                           57\n"
     ]
    }
   ],
   "source": [
    "net.summary()"
   ]
  },
  {
   "cell_type": "code",
   "execution_count": 7,
   "metadata": {},
   "outputs": [
    {
     "name": "stdout",
     "output_type": "stream",
     "text": [
      "Epoch 1-50 ======================> cost: 0.6412\n",
      "Epoch 11-50 ======================> cost: 0.6367\n",
      "Epoch 21-50 ======================> cost: 0.2793\n",
      "Epoch 31-50 ======================> cost: 0.0623\n",
      "Epoch 41-50 ======================> cost: 0.5870\n",
      "[[0.01794022]\n",
      " [0.96066276]\n",
      " [0.98701845]\n",
      " [0.02455563]]\n"
     ]
    }
   ],
   "source": [
    "net.fit(x_train, y_train, epochs=50, verbose=1)\n",
    "\n",
    "# test\n",
    "out = net.predict(x_train)\n",
    "print(out)"
   ]
  },
  {
   "cell_type": "code",
   "execution_count": 8,
   "metadata": {},
   "outputs": [
    {
     "data": {
      "text/plain": [
       "1.0"
      ]
     },
     "execution_count": 8,
     "metadata": {},
     "output_type": "execute_result"
    }
   ],
   "source": [
    "xor_pred = np.round(out)\n",
    "\n",
    "metrics.accuracy(y_train, xor_pred)"
   ]
  },
  {
   "attachments": {},
   "cell_type": "markdown",
   "metadata": {},
   "source": [
    "## Breast Cancer (Binary Neural Network)"
   ]
  },
  {
   "cell_type": "code",
   "execution_count": 9,
   "metadata": {},
   "outputs": [
    {
     "data": {
      "text/plain": [
       "(569, 30)"
      ]
     },
     "execution_count": 9,
     "metadata": {},
     "output_type": "execute_result"
    }
   ],
   "source": [
    "from sklearn.datasets import load_breast_cancer\n",
    "data = load_breast_cancer()\n",
    "\n",
    "data_df = pd.DataFrame(data = data.data,\n",
    "                       columns = data.feature_names)\n",
    "data_df.shape"
   ]
  },
  {
   "cell_type": "code",
   "execution_count": 10,
   "metadata": {},
   "outputs": [
    {
     "name": "stdout",
     "output_type": "stream",
     "text": [
      "Summary of the Neural Network\n",
      "___________________________________________________________________________________________________________________\n",
      "Layer (type)        Neurons #      Input Shape    Output Shape   Weights shape  Bias shape        Param #\n",
      "===================================================================================================================\n",
      "Input               30             -              (30, None)     -              -                       0\n",
      "\n",
      "DenseLayer          64             (30,)          (64,)          (64, 30)       (64, 1)              1984\n",
      "\n",
      "DenseLayer          128            (64,)          (128,)         (128, 64)      (128, 1)             8320\n",
      "\n",
      "DropoutLayer        -              droupout rate: 0.2            -              -                       0\n",
      "\n",
      "DenseLayer          32             (128,)         (32,)          (32, 128)      (32, 1)              4128\n",
      "\n",
      "DenseLayer          1              (32,)          (1,)           (1, 32)        (1, 1)                 33\n",
      "\n",
      "===================================================================================================================\n",
      "Total params                                                                                        14465\n"
     ]
    }
   ],
   "source": [
    "breast_net = network()\n",
    "\n",
    "breast_net.add(layers.DenseLayer(input_shape=(30,), units=64, activation=\"tanh\"))\n",
    "# breast_net.add(ActivationLayer(Tanh))\n",
    "\n",
    "breast_net.add(layers.DenseLayer( units=128, activation=\"tanh\"))\n",
    "# breast_net.add(ActivationLayer(Tanh))\n",
    "\n",
    "breast_net.add(layers.DropoutLayer(0.2))\n",
    "\n",
    "breast_net.add(layers.DenseLayer( units=32, activation=\"tanh\"))                    # input_shape=(1, 10)       ;   output_shape=(1, 10)\n",
    "# breast_net.add(ActivationLayer(Tanh))\n",
    "\n",
    "breast_net.add(layers.DenseLayer( units=1, activation=\"sigmoid\"))                    # input_shape=(1, 10)       ;   output_shape=(1, 10)\n",
    "# breast_net.add(ActivationLayer(Sigmoid))\n",
    "\n",
    "breast_net.compile(loss=losses.BinaryCrossentropy(), optimizer=optimizers.Adam(lr=0.001), initializer=\"glorot_uniform\")\n",
    "\n",
    "breast_net.summary()"
   ]
  },
  {
   "cell_type": "code",
   "execution_count": 11,
   "metadata": {},
   "outputs": [
    {
     "name": "stdout",
     "output_type": "stream",
     "text": [
      "Epoch 1-10 ======================> cost: 0.4257\n",
      "Epoch 2-10 ======================> cost: 0.3367\n",
      "Epoch 3-10 ======================> cost: 0.2810\n",
      "Epoch 4-10 ======================> cost: 0.2436\n",
      "Epoch 5-10 ======================> cost: 0.2271\n",
      "Epoch 6-10 ======================> cost: 0.2216\n",
      "Epoch 7-10 ======================> cost: 0.2345\n",
      "Epoch 8-10 ======================> cost: 0.2161\n",
      "Epoch 9-10 ======================> cost: 0.2602\n",
      "Epoch 10-10 ======================> cost: 0.2404\n"
     ]
    }
   ],
   "source": [
    "# y_breast = np.array(pd.get_dummies(data.target))\n",
    "y_breast = data.target\n",
    "breast_net.fit(x_train=data.data,y_train= y_breast, epochs=10, verbose=2)"
   ]
  },
  {
   "cell_type": "code",
   "execution_count": 12,
   "metadata": {},
   "outputs": [
    {
     "name": "stdout",
     "output_type": "stream",
     "text": [
      "Accuracy:  0.9173989455184535\n",
      "Precision:  0.8914141414141414\n",
      "Recall:  0.988795518207283\n"
     ]
    }
   ],
   "source": [
    "pred_breast = breast_net.predict(data.data)\n",
    "\n",
    "pred_breast = np.round(pred_breast).reshape(-1)\n",
    "\n",
    "print(\"Accuracy: \", metrics.accuracy(y_breast, pred_breast))\n",
    "print(\"Precision: \", metrics.precision(y_breast, pred_breast, average=\"binary\"))\n",
    "print(\"Recall: \", metrics.recall(y_breast, pred_breast, average=\"binary\"))"
   ]
  },
  {
   "cell_type": "code",
   "execution_count": 13,
   "metadata": {},
   "outputs": [
    {
     "name": "stdout",
     "output_type": "stream",
     "text": [
      "Accuracy: 0.9173989455184535\n",
      "Precision: 0.8914141414141414\n",
      "Recall: 0.988795518207283\n"
     ]
    }
   ],
   "source": [
    "# calculate accuracy measures and confusion matrix\n",
    "from sklearn import metrics as sk_metrics\n",
    "\n",
    "print(f\"Accuracy: {sk_metrics.accuracy_score(y_breast, pred_breast)}\")\n",
    "print(f\"Precision: {sk_metrics.precision_score(y_breast, pred_breast)}\")\n",
    "print(f\"Recall: {sk_metrics.recall_score(y_breast, pred_breast)}\")\n"
   ]
  },
  {
   "attachments": {},
   "cell_type": "markdown",
   "metadata": {},
   "source": [
    "## Moon (Binary Neural Network)"
   ]
  },
  {
   "cell_type": "code",
   "execution_count": 14,
   "metadata": {},
   "outputs": [
    {
     "name": "stdout",
     "output_type": "stream",
     "text": [
      "Summary of the Neural Network\n",
      "___________________________________________________________________________________________________________________\n",
      "Layer (type)        Neurons #      Input Shape    Output Shape   Weights shape  Bias shape        Param #\n",
      "===================================================================================================================\n",
      "Input               2              -              (2, None)      -              -                       0\n",
      "\n",
      "DenseLayer          16             (2,)           (16,)          (16, 2)        (16, 1)                48\n",
      "\n",
      "DenseLayer          8              (16,)          (8,)           (8, 16)        (8, 1)                136\n",
      "\n",
      "DropoutLayer        -              droupout rate: 0.5            -              -                       0\n",
      "\n",
      "DenseLayer          1              (8,)           (1,)           (1, 8)         (1, 1)                  9\n",
      "\n",
      "===================================================================================================================\n",
      "Total params                                                                                          193\n"
     ]
    }
   ],
   "source": [
    "import sklearn\n",
    "import sklearn.datasets\n",
    "X, y = sklearn.datasets.make_moons(500, noise=0.30)\n",
    "\n",
    "moon_net = network()\n",
    "\n",
    "moon_net.add(layers.DenseLayer(input_shape=(2,), units= 16, activation=\"tanh\"))\n",
    "\n",
    "moon_net.add(layers.DenseLayer(units= 8, activation=\"tanh\"))\n",
    "\n",
    "moon_net.add(layers.DropoutLayer(0.5))\n",
    "\n",
    "moon_net.add(layers.DenseLayer(units= 1, activation=\"sigmoid\"))                    # input_shape=(1, 10)       ;   output_shape=(1, 10)\n",
    "\n",
    "moon_net.compile(loss=losses.BinaryCrossentropy(), optimizer=optimizers.Adam(lr=0.001))\n",
    "\n",
    "moon_net.summary()"
   ]
  },
  {
   "cell_type": "code",
   "execution_count": 15,
   "metadata": {},
   "outputs": [
    {
     "name": "stdout",
     "output_type": "stream",
     "text": [
      "Epoch 1-300 ======================> cost: 0.7607\n",
      "Epoch 11-300 ======================> cost: 0.4209\n",
      "Epoch 21-300 ======================> cost: 0.3776\n",
      "Epoch 31-300 ======================> cost: 0.3661\n",
      "Epoch 41-300 ======================> cost: 0.3630\n",
      "Epoch 51-300 ======================> cost: 0.3612\n",
      "Epoch 61-300 ======================> cost: 0.3602\n",
      "Epoch 71-300 ======================> cost: 0.3582\n",
      "Epoch 81-300 ======================> cost: 0.3566\n",
      "Epoch 91-300 ======================> cost: 0.3546\n",
      "Epoch 101-300 ======================> cost: 0.3537\n",
      "Epoch 111-300 ======================> cost: 0.3485\n",
      "Epoch 121-300 ======================> cost: 0.3417\n",
      "Epoch 131-300 ======================> cost: 0.3346\n",
      "Epoch 141-300 ======================> cost: 0.3291\n",
      "Epoch 151-300 ======================> cost: 0.3142\n",
      "Epoch 161-300 ======================> cost: 0.3007\n",
      "Epoch 171-300 ======================> cost: 0.2864\n",
      "Epoch 181-300 ======================> cost: 0.2723\n",
      "Epoch 191-300 ======================> cost: 0.2598\n",
      "Epoch 201-300 ======================> cost: 0.2501\n",
      "Epoch 211-300 ======================> cost: 0.2434\n",
      "Epoch 221-300 ======================> cost: 0.2377\n",
      "Epoch 231-300 ======================> cost: 0.2337\n",
      "Epoch 241-300 ======================> cost: 0.2334\n",
      "Epoch 251-300 ======================> cost: 0.2266\n",
      "Epoch 261-300 ======================> cost: 0.2258\n",
      "Epoch 271-300 ======================> cost: 0.2284\n",
      "Epoch 281-300 ======================> cost: 0.2229\n",
      "Epoch 291-300 ======================> cost: 0.2238\n"
     ]
    }
   ],
   "source": [
    "moon_net.fit(X, y, epochs=300, verbose=1, batch_size=32)"
   ]
  },
  {
   "cell_type": "code",
   "execution_count": 16,
   "metadata": {},
   "outputs": [
    {
     "name": "stdout",
     "output_type": "stream",
     "text": [
      "Accuracy:  0.914\n",
      "Precision:  0.9190283400809717\n",
      "Recall:  0.908\n",
      "R2:  0.656\n"
     ]
    }
   ],
   "source": [
    "moon_pred = moon_net.predict(X)\n",
    "\n",
    "# as this is also a binary classification, we need to reshape the output to 1D array\n",
    "moon_pred = np.round(moon_pred).reshape(-1)\n",
    "\n",
    "print(\"Accuracy: \", metrics.accuracy(y, moon_pred))\n",
    "print(\"Precision: \", metrics.precision(y, moon_pred, average=\"binary\"))\n",
    "print(\"Recall: \", metrics.recall(y, moon_pred, average=\"binary\"))\n",
    "print(\"R2: \", metrics.r2_score(y, moon_pred))"
   ]
  },
  {
   "cell_type": "code",
   "execution_count": 17,
   "metadata": {},
   "outputs": [
    {
     "name": "stdout",
     "output_type": "stream",
     "text": [
      "Accuracy:  0.914\n",
      "Precision:  0.9190283400809717\n",
      "Recall:  0.908\n",
      "R2:  0.656\n"
     ]
    }
   ],
   "source": [
    "print(\"Accuracy: \", sk_metrics.accuracy_score(y, moon_pred))\n",
    "print(\"Precision: \", sk_metrics.precision_score(y, moon_pred))\n",
    "print(\"Recall: \", sk_metrics.recall_score(y, moon_pred))\n",
    "print(\"R2: \", sk_metrics.r2_score(y, moon_pred))"
   ]
  },
  {
   "attachments": {},
   "cell_type": "markdown",
   "metadata": {},
   "source": [
    "## MNIST Fashion Recognition (10 classes)"
   ]
  },
  {
   "cell_type": "code",
   "execution_count": 19,
   "metadata": {},
   "outputs": [],
   "source": [
    "# load MNIST Fashion dataset from keras\n",
    "\n",
    "from keras.datasets import fashion_mnist\n",
    "\n",
    "(x_train, y_train), (x_test, y_test) = fashion_mnist.load_data()\n",
    "\n",
    "# normalize the data\n",
    "x_train = x_train/255.\n",
    "x_test = x_test/255.\n",
    "\n",
    "# Flatten the images\n",
    "x_train = x_train.reshape(-1, 28*28)\n",
    "x_test = x_test.reshape(-1, 28*28)"
   ]
  },
  {
   "cell_type": "code",
   "execution_count": 20,
   "metadata": {},
   "outputs": [],
   "source": [
    "precisions_ = []\n",
    "accuracies_ = []\n",
    "recalls_ = []\n",
    "f1s_ = []\n",
    "losses_ = []\n",
    "\n",
    "\n",
    "def callback(true, predicted, loss, epoch):\n",
    "    losses_.append(loss)\n",
    "    pred  = metrics.predict_classes(predicted)\n",
    "    # print(pred.shape)\n",
    "    global precisions_\n",
    "    global accuracies_\n",
    "    global recalls_\n",
    "    global f1s_\n",
    "    precisions_.append(metrics.precision(true, pred))\n",
    "    accuracies_.append(metrics.accuracy(true, pred))\n",
    "    recalls_.append(metrics.recall(true, pred))\n",
    "    f1s_.append(metrics.f1_score(true, pred))"
   ]
  },
  {
   "cell_type": "code",
   "execution_count": 21,
   "metadata": {},
   "outputs": [
    {
     "name": "stdout",
     "output_type": "stream",
     "text": [
      "Summary of the Neural Network\n",
      "___________________________________________________________________________________________________________________\n",
      "Layer (type)        Neurons #      Input Shape    Output Shape   Weights shape  Bias shape        Param #\n",
      "===================================================================================================================\n",
      "Input               784            -              (784, None)    -              -                       0\n",
      "\n",
      "DenseLayer          20             (784,)         (20,)          (20, 784)      (20, 1)             15700\n",
      "\n",
      "DenseLayer          10             (20,)          (10,)          (10, 20)       (10, 1)               210\n",
      "\n",
      "DropoutLayer        -              droupout rate: 0.2            -              -                       0\n",
      "\n",
      "DenseLayer          8              (10,)          (8,)           (8, 10)        (8, 1)                 88\n",
      "\n",
      "BatchNormalization  -              epsilon:       1e-08          -              -                       -\n",
      "\n",
      "DenseLayer          10             (8,)           (10,)          (10, 8)        (10, 1)                90\n",
      "\n",
      "===================================================================================================================\n",
      "Total params                                                                                        16088\n"
     ]
    }
   ],
   "source": [
    "digits = network()\n",
    "\n",
    "digits.add(layers.DenseLayer(input_shape=(28*28,), units=20, activation=\"relu\"))              \n",
    "\n",
    "digits.add(layers.DenseLayer( units=10, activation=\"relu\"))                \n",
    "\n",
    "digits.add(layers.DropoutLayer(dropout_rate=0.2))\n",
    "\n",
    "digits.add(layers.DenseLayer( units= 8, activation=\"relu\"))\n",
    "\n",
    "digits.add(layers.BatchNormalization(8))\n",
    "\n",
    "digits.add(layers.DenseLayer( units=10, activation=\"softmax\"))                   \n",
    "\n",
    "digits.compile(loss=losses.CategoricalCrossentropy(), optimizer=optimizers.Adam(lr=0.001))\n",
    "\n",
    "digits.summary()"
   ]
  },
  {
   "cell_type": "code",
   "execution_count": 22,
   "metadata": {},
   "outputs": [
    {
     "name": "stdout",
     "output_type": "stream",
     "text": [
      "Epoch 1-30 ======================> cost: 0.6706\n",
      "Epoch 11-30 ======================> cost: 0.3846\n",
      "Epoch 21-30 ======================> cost: 0.3527\n"
     ]
    }
   ],
   "source": [
    "y_oh = np.array(pd.get_dummies(y_train))\n",
    "digits.fit(x_train, y_oh, epochs=30,  batch_size=128, verbose=1, callback=callback)"
   ]
  },
  {
   "cell_type": "code",
   "execution_count": 23,
   "metadata": {},
   "outputs": [
    {
     "data": {
      "image/png": "[encoded data removed]",
      "text/plain": [
       "<Figure size 2500x500 with 4 Axes>"
      ]
     },
     "metadata": {},
     "output_type": "display_data"
    }
   ],
   "source": [
    "def plot_metrics(metrics, titles):\n",
    "    # plot all the metrics in one plot\n",
    "\n",
    "    fig, ax = plt.subplots(1, len(metrics), figsize=(25, 5))\n",
    "    if len(metrics) == 1:\n",
    "        ax = [ax]\n",
    "\n",
    "    for i, metric in enumerate(metrics):\n",
    "        ax[i].plot(metric)\n",
    "        ax[i].set_title(titles[i])\n",
    "        ax[i].set_xlabel(\"Epochs\")\n",
    "        ax[i].set_ylabel(titles[i])\n",
    "    plt.show()\n",
    "\n",
    "plot_metrics([precisions_, accuracies_, recalls_, f1s_], [\"Precision\", \"Accuracy\", \"Recall\", \"F1\"])"
   ]
  },
  {
   "cell_type": "code",
   "execution_count": 24,
   "metadata": {},
   "outputs": [
    {
     "data": {
      "image/png": "[encoded data removed]",
      "text/plain": [
       "<Figure size 2500x500 with 1 Axes>"
      ]
     },
     "metadata": {},
     "output_type": "display_data"
    }
   ],
   "source": [
    "plot_metrics([losses_], [\"Caterogical Cross-Entropy\"])"
   ]
  },
  {
   "cell_type": "code",
   "execution_count": 25,
   "metadata": {},
   "outputs": [
    {
     "data": {
      "text/plain": [
       "0.8852"
      ]
     },
     "execution_count": 25,
     "metadata": {},
     "output_type": "execute_result"
    }
   ],
   "source": [
    "prob_train = digits.predict(x_train)\n",
    "\n",
    "# as this is not a binary classification, we need to use predict_classes and then accuracy\n",
    "train_pred = metrics.predict_classes(prob_train)\n",
    "metrics.accuracy(y_train, train_pred)"
   ]
  },
  {
   "cell_type": "code",
   "execution_count": 26,
   "metadata": {},
   "outputs": [
    {
     "name": "stdout",
     "output_type": "stream",
     "text": [
      "Test Accuracy:  0.8548\n"
     ]
    }
   ],
   "source": [
    "prob_test = digits.predict(x_test)\n",
    "test_pred = metrics.predict_classes(prob_test)\n",
    "print(\"Test Accuracy: \", metrics.accuracy(y_test, test_pred))"
   ]
  },
  {
   "cell_type": "code",
   "execution_count": 27,
   "metadata": {},
   "outputs": [
    {
     "name": "stdout",
     "output_type": "stream",
     "text": [
      "Training Precision: 0.8861\n",
      "Testing Precision:  0.8558\n"
     ]
    }
   ],
   "source": [
    "train_prec = metrics.precision(y_train, train_pred, average=\"macro\")\n",
    "test_prec = metrics.precision(y_test, test_pred, average=\"macro\")\n",
    "\n",
    "print(f\"Training Precision: {train_prec:.4f}\\nTesting Precision:  {test_prec:.4f}\")"
   ]
  },
  {
   "cell_type": "code",
   "execution_count": 28,
   "metadata": {},
   "outputs": [
    {
     "data": {
      "text/plain": [
       "0.8124484848484849"
      ]
     },
     "execution_count": 28,
     "metadata": {},
     "output_type": "execute_result"
    }
   ],
   "source": [
    "metrics.r2_score(y_train, train_pred)"
   ]
  },
  {
   "cell_type": "code",
   "execution_count": 29,
   "metadata": {},
   "outputs": [
    {
     "data": {
      "text/html": [
       "<div>\n",
       "<style scoped>\n",
       "    .dataframe tbody tr th:only-of-type {\n",
       "        vertical-align: middle;\n",
       "    }\n",
       "\n",
       "    .dataframe tbody tr th {\n",
       "        vertical-align: top;\n",
       "    }\n",
       "\n",
       "    .dataframe thead th {\n",
       "        text-align: right;\n",
       "    }\n",
       "</style>\n",
       "<table border=\"1\" class=\"dataframe\">\n",
       "  <thead>\n",
       "    <tr style=\"text-align: right;\">\n",
       "      <th>Predicted</th>\n",
       "      <th>0</th>\n",
       "      <th>1</th>\n",
       "      <th>2</th>\n",
       "      <th>3</th>\n",
       "      <th>4</th>\n",
       "      <th>5</th>\n",
       "      <th>6</th>\n",
       "      <th>7</th>\n",
       "      <th>8</th>\n",
       "      <th>9</th>\n",
       "    </tr>\n",
       "    <tr>\n",
       "      <th>Actual</th>\n",
       "      <th></th>\n",
       "      <th></th>\n",
       "      <th></th>\n",
       "      <th></th>\n",
       "      <th></th>\n",
       "      <th></th>\n",
       "      <th></th>\n",
       "      <th></th>\n",
       "      <th></th>\n",
       "      <th></th>\n",
       "    </tr>\n",
       "  </thead>\n",
       "  <tbody>\n",
       "    <tr>\n",
       "      <th>0</th>\n",
       "      <td>5122</td>\n",
       "      <td>9</td>\n",
       "      <td>103</td>\n",
       "      <td>172</td>\n",
       "      <td>16</td>\n",
       "      <td>1</td>\n",
       "      <td>546</td>\n",
       "      <td>0</td>\n",
       "      <td>31</td>\n",
       "      <td>0</td>\n",
       "    </tr>\n",
       "    <tr>\n",
       "      <th>1</th>\n",
       "      <td>30</td>\n",
       "      <td>5818</td>\n",
       "      <td>37</td>\n",
       "      <td>95</td>\n",
       "      <td>16</td>\n",
       "      <td>2</td>\n",
       "      <td>1</td>\n",
       "      <td>0</td>\n",
       "      <td>1</td>\n",
       "      <td>0</td>\n",
       "    </tr>\n",
       "    <tr>\n",
       "      <th>2</th>\n",
       "      <td>68</td>\n",
       "      <td>5</td>\n",
       "      <td>5214</td>\n",
       "      <td>36</td>\n",
       "      <td>453</td>\n",
       "      <td>1</td>\n",
       "      <td>209</td>\n",
       "      <td>0</td>\n",
       "      <td>14</td>\n",
       "      <td>0</td>\n",
       "    </tr>\n",
       "    <tr>\n",
       "      <th>3</th>\n",
       "      <td>155</td>\n",
       "      <td>20</td>\n",
       "      <td>57</td>\n",
       "      <td>5403</td>\n",
       "      <td>237</td>\n",
       "      <td>7</td>\n",
       "      <td>120</td>\n",
       "      <td>1</td>\n",
       "      <td>0</td>\n",
       "      <td>0</td>\n",
       "    </tr>\n",
       "    <tr>\n",
       "      <th>4</th>\n",
       "      <td>8</td>\n",
       "      <td>14</td>\n",
       "      <td>805</td>\n",
       "      <td>122</td>\n",
       "      <td>4802</td>\n",
       "      <td>0</td>\n",
       "      <td>245</td>\n",
       "      <td>0</td>\n",
       "      <td>3</td>\n",
       "      <td>1</td>\n",
       "    </tr>\n",
       "    <tr>\n",
       "      <th>5</th>\n",
       "      <td>0</td>\n",
       "      <td>0</td>\n",
       "      <td>1</td>\n",
       "      <td>0</td>\n",
       "      <td>1</td>\n",
       "      <td>5875</td>\n",
       "      <td>0</td>\n",
       "      <td>95</td>\n",
       "      <td>6</td>\n",
       "      <td>22</td>\n",
       "    </tr>\n",
       "    <tr>\n",
       "      <th>6</th>\n",
       "      <td>834</td>\n",
       "      <td>5</td>\n",
       "      <td>758</td>\n",
       "      <td>102</td>\n",
       "      <td>569</td>\n",
       "      <td>0</td>\n",
       "      <td>3668</td>\n",
       "      <td>0</td>\n",
       "      <td>63</td>\n",
       "      <td>1</td>\n",
       "    </tr>\n",
       "    <tr>\n",
       "      <th>7</th>\n",
       "      <td>0</td>\n",
       "      <td>0</td>\n",
       "      <td>0</td>\n",
       "      <td>0</td>\n",
       "      <td>0</td>\n",
       "      <td>178</td>\n",
       "      <td>0</td>\n",
       "      <td>5702</td>\n",
       "      <td>6</td>\n",
       "      <td>114</td>\n",
       "    </tr>\n",
       "    <tr>\n",
       "      <th>8</th>\n",
       "      <td>11</td>\n",
       "      <td>8</td>\n",
       "      <td>72</td>\n",
       "      <td>9</td>\n",
       "      <td>41</td>\n",
       "      <td>7</td>\n",
       "      <td>21</td>\n",
       "      <td>17</td>\n",
       "      <td>5808</td>\n",
       "      <td>6</td>\n",
       "    </tr>\n",
       "    <tr>\n",
       "      <th>9</th>\n",
       "      <td>0</td>\n",
       "      <td>0</td>\n",
       "      <td>0</td>\n",
       "      <td>0</td>\n",
       "      <td>1</td>\n",
       "      <td>89</td>\n",
       "      <td>0</td>\n",
       "      <td>209</td>\n",
       "      <td>1</td>\n",
       "      <td>5700</td>\n",
       "    </tr>\n",
       "  </tbody>\n",
       "</table>\n",
       "</div>"
      ],
      "text/plain": [
       "Predicted     0     1     2     3     4     5     6     7     8     9\n",
       "Actual                                                               \n",
       "0          5122     9   103   172    16     1   546     0    31     0\n",
       "1            30  5818    37    95    16     2     1     0     1     0\n",
       "2            68     5  5214    36   453     1   209     0    14     0\n",
       "3           155    20    57  5403   237     7   120     1     0     0\n",
       "4             8    14   805   122  4802     0   245     0     3     1\n",
       "5             0     0     1     0     1  5875     0    95     6    22\n",
       "6           834     5   758   102   569     0  3668     0    63     1\n",
       "7             0     0     0     0     0   178     0  5702     6   114\n",
       "8            11     8    72     9    41     7    21    17  5808     6\n",
       "9             0     0     0     0     1    89     0   209     1  5700"
      ]
     },
     "execution_count": 29,
     "metadata": {},
     "output_type": "execute_result"
    }
   ],
   "source": [
    "metrics.confusion_matrix(y_train, train_pred)"
   ]
  },
  {
   "cell_type": "code",
   "execution_count": 30,
   "metadata": {},
   "outputs": [
    {
     "data": {
      "text/html": [
       "<div>\n",
       "<style scoped>\n",
       "    .dataframe tbody tr th:only-of-type {\n",
       "        vertical-align: middle;\n",
       "    }\n",
       "\n",
       "    .dataframe tbody tr th {\n",
       "        vertical-align: top;\n",
       "    }\n",
       "\n",
       "    .dataframe thead th {\n",
       "        text-align: right;\n",
       "    }\n",
       "</style>\n",
       "<table border=\"1\" class=\"dataframe\">\n",
       "  <thead>\n",
       "    <tr style=\"text-align: right;\">\n",
       "      <th>Predicted</th>\n",
       "      <th>0</th>\n",
       "      <th>1</th>\n",
       "      <th>2</th>\n",
       "      <th>3</th>\n",
       "      <th>4</th>\n",
       "      <th>5</th>\n",
       "      <th>6</th>\n",
       "      <th>7</th>\n",
       "      <th>8</th>\n",
       "      <th>9</th>\n",
       "    </tr>\n",
       "    <tr>\n",
       "      <th>Actual</th>\n",
       "      <th></th>\n",
       "      <th></th>\n",
       "      <th></th>\n",
       "      <th></th>\n",
       "      <th></th>\n",
       "      <th></th>\n",
       "      <th></th>\n",
       "      <th></th>\n",
       "      <th></th>\n",
       "      <th></th>\n",
       "    </tr>\n",
       "  </thead>\n",
       "  <tbody>\n",
       "    <tr>\n",
       "      <th>0</th>\n",
       "      <td>5122</td>\n",
       "      <td>9</td>\n",
       "      <td>103</td>\n",
       "      <td>172</td>\n",
       "      <td>16</td>\n",
       "      <td>1</td>\n",
       "      <td>546</td>\n",
       "      <td>0</td>\n",
       "      <td>31</td>\n",
       "      <td>0</td>\n",
       "    </tr>\n",
       "    <tr>\n",
       "      <th>1</th>\n",
       "      <td>30</td>\n",
       "      <td>5818</td>\n",
       "      <td>37</td>\n",
       "      <td>95</td>\n",
       "      <td>16</td>\n",
       "      <td>2</td>\n",
       "      <td>1</td>\n",
       "      <td>0</td>\n",
       "      <td>1</td>\n",
       "      <td>0</td>\n",
       "    </tr>\n",
       "    <tr>\n",
       "      <th>2</th>\n",
       "      <td>68</td>\n",
       "      <td>5</td>\n",
       "      <td>5214</td>\n",
       "      <td>36</td>\n",
       "      <td>453</td>\n",
       "      <td>1</td>\n",
       "      <td>209</td>\n",
       "      <td>0</td>\n",
       "      <td>14</td>\n",
       "      <td>0</td>\n",
       "    </tr>\n",
       "    <tr>\n",
       "      <th>3</th>\n",
       "      <td>155</td>\n",
       "      <td>20</td>\n",
       "      <td>57</td>\n",
       "      <td>5403</td>\n",
       "      <td>237</td>\n",
       "      <td>7</td>\n",
       "      <td>120</td>\n",
       "      <td>1</td>\n",
       "      <td>0</td>\n",
       "      <td>0</td>\n",
       "    </tr>\n",
       "    <tr>\n",
       "      <th>4</th>\n",
       "      <td>8</td>\n",
       "      <td>14</td>\n",
       "      <td>805</td>\n",
       "      <td>122</td>\n",
       "      <td>4802</td>\n",
       "      <td>0</td>\n",
       "      <td>245</td>\n",
       "      <td>0</td>\n",
       "      <td>3</td>\n",
       "      <td>1</td>\n",
       "    </tr>\n",
       "    <tr>\n",
       "      <th>5</th>\n",
       "      <td>0</td>\n",
       "      <td>0</td>\n",
       "      <td>1</td>\n",
       "      <td>0</td>\n",
       "      <td>1</td>\n",
       "      <td>5875</td>\n",
       "      <td>0</td>\n",
       "      <td>95</td>\n",
       "      <td>6</td>\n",
       "      <td>22</td>\n",
       "    </tr>\n",
       "    <tr>\n",
       "      <th>6</th>\n",
       "      <td>834</td>\n",
       "      <td>5</td>\n",
       "      <td>758</td>\n",
       "      <td>102</td>\n",
       "      <td>569</td>\n",
       "      <td>0</td>\n",
       "      <td>3668</td>\n",
       "      <td>0</td>\n",
       "      <td>63</td>\n",
       "      <td>1</td>\n",
       "    </tr>\n",
       "    <tr>\n",
       "      <th>7</th>\n",
       "      <td>0</td>\n",
       "      <td>0</td>\n",
       "      <td>0</td>\n",
       "      <td>0</td>\n",
       "      <td>0</td>\n",
       "      <td>178</td>\n",
       "      <td>0</td>\n",
       "      <td>5702</td>\n",
       "      <td>6</td>\n",
       "      <td>114</td>\n",
       "    </tr>\n",
       "    <tr>\n",
       "      <th>8</th>\n",
       "      <td>11</td>\n",
       "      <td>8</td>\n",
       "      <td>72</td>\n",
       "      <td>9</td>\n",
       "      <td>41</td>\n",
       "      <td>7</td>\n",
       "      <td>21</td>\n",
       "      <td>17</td>\n",
       "      <td>5808</td>\n",
       "      <td>6</td>\n",
       "    </tr>\n",
       "    <tr>\n",
       "      <th>9</th>\n",
       "      <td>0</td>\n",
       "      <td>0</td>\n",
       "      <td>0</td>\n",
       "      <td>0</td>\n",
       "      <td>1</td>\n",
       "      <td>89</td>\n",
       "      <td>0</td>\n",
       "      <td>209</td>\n",
       "      <td>1</td>\n",
       "      <td>5700</td>\n",
       "    </tr>\n",
       "  </tbody>\n",
       "</table>\n",
       "</div>"
      ],
      "text/plain": [
       "Predicted     0     1     2     3     4     5     6     7     8     9\n",
       "Actual                                                               \n",
       "0          5122     9   103   172    16     1   546     0    31     0\n",
       "1            30  5818    37    95    16     2     1     0     1     0\n",
       "2            68     5  5214    36   453     1   209     0    14     0\n",
       "3           155    20    57  5403   237     7   120     1     0     0\n",
       "4             8    14   805   122  4802     0   245     0     3     1\n",
       "5             0     0     1     0     1  5875     0    95     6    22\n",
       "6           834     5   758   102   569     0  3668     0    63     1\n",
       "7             0     0     0     0     0   178     0  5702     6   114\n",
       "8            11     8    72     9    41     7    21    17  5808     6\n",
       "9             0     0     0     0     1    89     0   209     1  5700"
      ]
     },
     "execution_count": 30,
     "metadata": {},
     "output_type": "execute_result"
    }
   ],
   "source": [
    "metrics.confusion_matrix(y_train, train_pred)"
   ]
  },
  {
   "cell_type": "code",
   "execution_count": 31,
   "metadata": {},
   "outputs": [
    {
     "data": {
      "text/plain": [
       "array([[824,   3,  22,  44,   2,   1,  95,   0,   9,   0],\n",
       "       [  7, 953,  12,  24,   2,   0,   1,   0,   1,   0],\n",
       "       [ 17,   1, 833,   8,  93,   0,  45,   0,   3,   0],\n",
       "       [ 32,   5,  22, 867,  38,   3,  31,   0,   2,   0],\n",
       "       [  1,   3, 166,  28, 748,   0,  53,   0,   1,   0],\n",
       "       [  0,   0,   0,   0,   0, 957,   0,  31,   1,  11],\n",
       "       [151,   4, 151,  28, 106,   0, 542,   0,  18,   0],\n",
       "       [  0,   0,   0,   0,   0,  41,   0, 937,   0,  22],\n",
       "       [  2,   2,  16,   5,   6,   5,   6,   7, 950,   1],\n",
       "       [  0,   0,   0,   0,   0,  22,   0,  40,   1, 937]])"
      ]
     },
     "execution_count": 31,
     "metadata": {},
     "output_type": "execute_result"
    }
   ],
   "source": [
    "sk_metrics.confusion_matrix(y_test, test_pred)"
   ]
  },
  {
   "cell_type": "code",
   "execution_count": 32,
   "metadata": {},
   "outputs": [
    {
     "data": {
      "text/plain": [
       "array([[824,   3,  22,  44,   2,   1,  95,   0,   9,   0],\n",
       "       [  7, 953,  12,  24,   2,   0,   1,   0,   1,   0],\n",
       "       [ 17,   1, 833,   8,  93,   0,  45,   0,   3,   0],\n",
       "       [ 32,   5,  22, 867,  38,   3,  31,   0,   2,   0],\n",
       "       [  1,   3, 166,  28, 748,   0,  53,   0,   1,   0],\n",
       "       [  0,   0,   0,   0,   0, 957,   0,  31,   1,  11],\n",
       "       [151,   4, 151,  28, 106,   0, 542,   0,  18,   0],\n",
       "       [  0,   0,   0,   0,   0,  41,   0, 937,   0,  22],\n",
       "       [  2,   2,  16,   5,   6,   5,   6,   7, 950,   1],\n",
       "       [  0,   0,   0,   0,   0,  22,   0,  40,   1, 937]])"
      ]
     },
     "execution_count": 32,
     "metadata": {},
     "output_type": "execute_result"
    }
   ],
   "source": [
    "sk_metrics.confusion_matrix(y_test, test_pred)"
   ]
  },
  {
   "attachments": {},
   "cell_type": "markdown",
   "metadata": {},
   "source": [
    "\n",
    "## Boston Housing (Regression)\n"
   ]
  },
  {
   "cell_type": "code",
   "execution_count": 35,
   "metadata": {},
   "outputs": [
    {
     "data": {
      "text/plain": [
       "((404, 13), (102, 13))"
      ]
     },
     "execution_count": 35,
     "metadata": {},
     "output_type": "execute_result"
    }
   ],
   "source": [
    "from keras.datasets import boston_housing\n",
    "\n",
    "(x_train, y_train), (x_test, y_test) = boston_housing.load_data()\n",
    "\n",
    "# normalize the data\n",
    "x_train = x_train/np.max(x_train)\n",
    "x_test = x_test/np.max(x_test)\n",
    "\n",
    "x_train.shape, x_test.shape"
   ]
  },
  {
   "cell_type": "code",
   "execution_count": 82,
   "metadata": {},
   "outputs": [],
   "source": [
    "\n",
    "boston = network()\n",
    "\n",
    "boston.add(layers.DenseLayer(input_shape=(13,), units=20, activation=\"tanh\"))\n",
    "\n",
    "boston.add(layers.DenseLayer(units=10, activation=\"tanh\"))\n",
    "\n",
    "boston.add(layers.DropoutLayer(dropout_rate=0.2))\n",
    "\n",
    "boston.add(layers.DenseLayer(units= 8, activation=\"tanh\", use_bias=False))\n",
    "\n",
    "boston.add(layers.BatchNormalization(8))\n",
    "\n",
    "boston.add(layers.DenseLayer(units=1, activation=\"linear\"))\n",
    "\n",
    "boston.compile(loss=losses.MSE(), optimizer=optimizers.Adam(lr=0.001))"
   ]
  },
  {
   "cell_type": "code",
   "execution_count": 83,
   "metadata": {},
   "outputs": [
    {
     "name": "stdout",
     "output_type": "stream",
     "text": [
      "Summary of the Neural Network\n",
      "___________________________________________________________________________________________________________________\n",
      "Layer (type)        Neurons #      Input Shape    Output Shape   Weights shape  Bias shape        Param #\n",
      "===================================================================================================================\n",
      "Input               13             -              (13, None)     -              -                       0\n",
      "\n",
      "DenseLayer          20             (13,)          (20,)          (20, 13)       (20, 1)               280\n",
      "\n",
      "DenseLayer          10             (20,)          (10,)          (10, 20)       (10, 1)               210\n",
      "\n",
      "DropoutLayer        -              droupout rate: 0.2            -              -                       0\n",
      "\n",
      "DenseLayer          8              (10,)          (8,)           (8, 10)        0                      80\n",
      "\n",
      "BatchNormalization  -              epsilon:       1e-08          -              -                       -\n",
      "\n",
      "DenseLayer          1              (8,)           (1,)           (1, 8)         (1, 1)                  9\n",
      "\n",
      "===================================================================================================================\n",
      "Total params                                                                                          579\n"
     ]
    }
   ],
   "source": [
    "boston.summary()"
   ]
  },
  {
   "cell_type": "code",
   "execution_count": 84,
   "metadata": {},
   "outputs": [
    {
     "name": "stdout",
     "output_type": "stream",
     "text": [
      "Epoch 1-100 ======================> cost: 281.6320\n",
      "Epoch 11-100 ======================> cost: 201.9205\n",
      "Epoch 21-100 ======================> cost: 141.8451\n",
      "Epoch 31-100 ======================> cost: 100.1171\n",
      "Epoch 41-100 ======================> cost: 70.9320\n",
      "Epoch 51-100 ======================> cost: 50.1270\n",
      "Epoch 61-100 ======================> cost: 33.4018\n",
      "Epoch 71-100 ======================> cost: 22.6746\n",
      "Epoch 81-100 ======================> cost: 17.8594\n",
      "Epoch 91-100 ======================> cost: 15.5137\n"
     ]
    }
   ],
   "source": [
    "boston.fit(x_train, y_train, epochs=100,  batch_size=64, verbose=1)"
   ]
  },
  {
   "cell_type": "code",
   "execution_count": 85,
   "metadata": {},
   "outputs": [
    {
     "data": {
      "text/plain": [
       "0.656714965315289"
      ]
     },
     "execution_count": 85,
     "metadata": {},
     "output_type": "execute_result"
    }
   ],
   "source": [
    "boston_pred = boston.predict(x_train).reshape(-1)\n",
    "metrics.r2_score(y_train, boston_pred)"
   ]
  },
  {
   "attachments": {},
   "cell_type": "markdown",
   "metadata": {},
   "source": [
    "***"
   ]
  }
 ],
 "metadata": {
  "kernelspec": {
   "display_name": "my_env",
   "language": "python",
   "name": "python3"
  },
  "language_info": {
   "codemirror_mode": {
    "name": "ipython",
    "version": 3
   },
   "file_extension": ".py",
   "mimetype": "text/x-python",
   "name": "python",
   "nbconvert_exporter": "python",
   "pygments_lexer": "ipython3",
   "version": "3.10.6"
  },
  "orig_nbformat": 4,
  "vscode": {
   "interpreter": {
    "hash": "a4a1b8dfbfcf197657bbe13300384e076b1914ebd98f1200feef09f71d03b223"
   }
  }
 },
 "nbformat": 4,
 "nbformat_minor": 2
}
